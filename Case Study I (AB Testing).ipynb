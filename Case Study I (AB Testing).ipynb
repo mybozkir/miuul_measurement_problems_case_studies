{
 "cells": [
  {
   "cell_type": "markdown",
   "id": "2444e5be",
   "metadata": {},
   "source": [
    "# AB Testi ile Bidding Yöntemlerinin Dönüşümünün Karşılaştırılması"
   ]
  },
  {
   "cell_type": "markdown",
   "id": "a8b5c11c",
   "metadata": {},
   "source": [
    "## Görev 1: Veriyi Hazırlama ve Analiz Etme"
   ]
  },
  {
   "cell_type": "markdown",
   "id": "24602e50",
   "metadata": {},
   "source": [
    "### Adım 0\n",
    "AB testi yapabilmek için gerekli kütüphanelerin yüklenmesi."
   ]
  },
  {
   "cell_type": "code",
   "execution_count": 1,
   "id": "c71f86ee",
   "metadata": {},
   "outputs": [],
   "source": [
    "import itertools\n",
    "import numpy as np\n",
    "import pandas as pd\n",
    "import matplotlib.pyplot as plt\n",
    "import seaborn as sns\n",
    "import statsmodels.stats.api as sms\n",
    "from scipy.stats import ttest_1samp, shapiro, levene, ttest_ind, mannwhitneyu, pearsonr, spearmanr, kendalltau, f_oneway, kruskal\n",
    "from statsmodels.stats.proportion import proportions_ztest"
   ]
  },
  {
   "cell_type": "markdown",
   "id": "a5f4de43",
   "metadata": {},
   "source": [
    "### Adım 1: Veri setini okutunuz. Kontrol ve test grubu verilerini ayrı değişkenlere atayınız."
   ]
  },
  {
   "cell_type": "code",
   "execution_count": 7,
   "id": "6bbbbf36",
   "metadata": {},
   "outputs": [],
   "source": [
    "data = pd.ExcelFile(r\"C:\\Users\\myboz\\development\\miuul\\measurement_problems\\ABTesti\\ab_testing.xlsx\")\n",
    "pages = data.sheet_names\n",
    "control_group = data.parse(pages[0])\n",
    "test_group = data.parse(pages[1])"
   ]
  },
  {
   "cell_type": "code",
   "execution_count": 8,
   "id": "9f593f26",
   "metadata": {},
   "outputs": [
    {
     "data": {
      "text/html": [
       "<div>\n",
       "<style scoped>\n",
       "    .dataframe tbody tr th:only-of-type {\n",
       "        vertical-align: middle;\n",
       "    }\n",
       "\n",
       "    .dataframe tbody tr th {\n",
       "        vertical-align: top;\n",
       "    }\n",
       "\n",
       "    .dataframe thead th {\n",
       "        text-align: right;\n",
       "    }\n",
       "</style>\n",
       "<table border=\"1\" class=\"dataframe\">\n",
       "  <thead>\n",
       "    <tr style=\"text-align: right;\">\n",
       "      <th></th>\n",
       "      <th>Impression</th>\n",
       "      <th>Click</th>\n",
       "      <th>Purchase</th>\n",
       "      <th>Earning</th>\n",
       "    </tr>\n",
       "  </thead>\n",
       "  <tbody>\n",
       "    <tr>\n",
       "      <th>0</th>\n",
       "      <td>82529.459271</td>\n",
       "      <td>6090.077317</td>\n",
       "      <td>665.211255</td>\n",
       "      <td>2311.277143</td>\n",
       "    </tr>\n",
       "    <tr>\n",
       "      <th>1</th>\n",
       "      <td>98050.451926</td>\n",
       "      <td>3382.861786</td>\n",
       "      <td>315.084895</td>\n",
       "      <td>1742.806855</td>\n",
       "    </tr>\n",
       "    <tr>\n",
       "      <th>2</th>\n",
       "      <td>82696.023549</td>\n",
       "      <td>4167.965750</td>\n",
       "      <td>458.083738</td>\n",
       "      <td>1797.827447</td>\n",
       "    </tr>\n",
       "    <tr>\n",
       "      <th>3</th>\n",
       "      <td>109914.400398</td>\n",
       "      <td>4910.882240</td>\n",
       "      <td>487.090773</td>\n",
       "      <td>1696.229178</td>\n",
       "    </tr>\n",
       "    <tr>\n",
       "      <th>4</th>\n",
       "      <td>108457.762630</td>\n",
       "      <td>5987.655811</td>\n",
       "      <td>441.034050</td>\n",
       "      <td>1543.720179</td>\n",
       "    </tr>\n",
       "  </tbody>\n",
       "</table>\n",
       "</div>"
      ],
      "text/plain": [
       "      Impression        Click    Purchase      Earning\n",
       "0   82529.459271  6090.077317  665.211255  2311.277143\n",
       "1   98050.451926  3382.861786  315.084895  1742.806855\n",
       "2   82696.023549  4167.965750  458.083738  1797.827447\n",
       "3  109914.400398  4910.882240  487.090773  1696.229178\n",
       "4  108457.762630  5987.655811  441.034050  1543.720179"
      ]
     },
     "execution_count": 8,
     "metadata": {},
     "output_type": "execute_result"
    }
   ],
   "source": [
    "control_group.head()"
   ]
  },
  {
   "cell_type": "code",
   "execution_count": 9,
   "id": "8d7caa86",
   "metadata": {},
   "outputs": [
    {
     "data": {
      "text/html": [
       "<div>\n",
       "<style scoped>\n",
       "    .dataframe tbody tr th:only-of-type {\n",
       "        vertical-align: middle;\n",
       "    }\n",
       "\n",
       "    .dataframe tbody tr th {\n",
       "        vertical-align: top;\n",
       "    }\n",
       "\n",
       "    .dataframe thead th {\n",
       "        text-align: right;\n",
       "    }\n",
       "</style>\n",
       "<table border=\"1\" class=\"dataframe\">\n",
       "  <thead>\n",
       "    <tr style=\"text-align: right;\">\n",
       "      <th></th>\n",
       "      <th>Impression</th>\n",
       "      <th>Click</th>\n",
       "      <th>Purchase</th>\n",
       "      <th>Earning</th>\n",
       "    </tr>\n",
       "  </thead>\n",
       "  <tbody>\n",
       "    <tr>\n",
       "      <th>0</th>\n",
       "      <td>120103.503796</td>\n",
       "      <td>3216.547958</td>\n",
       "      <td>702.160346</td>\n",
       "      <td>1939.611243</td>\n",
       "    </tr>\n",
       "    <tr>\n",
       "      <th>1</th>\n",
       "      <td>134775.943363</td>\n",
       "      <td>3635.082422</td>\n",
       "      <td>834.054286</td>\n",
       "      <td>2929.405820</td>\n",
       "    </tr>\n",
       "    <tr>\n",
       "      <th>2</th>\n",
       "      <td>107806.620788</td>\n",
       "      <td>3057.143560</td>\n",
       "      <td>422.934258</td>\n",
       "      <td>2526.244877</td>\n",
       "    </tr>\n",
       "    <tr>\n",
       "      <th>3</th>\n",
       "      <td>116445.275526</td>\n",
       "      <td>4650.473911</td>\n",
       "      <td>429.033535</td>\n",
       "      <td>2281.428574</td>\n",
       "    </tr>\n",
       "    <tr>\n",
       "      <th>4</th>\n",
       "      <td>145082.516838</td>\n",
       "      <td>5201.387724</td>\n",
       "      <td>749.860442</td>\n",
       "      <td>2781.697521</td>\n",
       "    </tr>\n",
       "  </tbody>\n",
       "</table>\n",
       "</div>"
      ],
      "text/plain": [
       "      Impression        Click    Purchase      Earning\n",
       "0  120103.503796  3216.547958  702.160346  1939.611243\n",
       "1  134775.943363  3635.082422  834.054286  2929.405820\n",
       "2  107806.620788  3057.143560  422.934258  2526.244877\n",
       "3  116445.275526  4650.473911  429.033535  2281.428574\n",
       "4  145082.516838  5201.387724  749.860442  2781.697521"
      ]
     },
     "execution_count": 9,
     "metadata": {},
     "output_type": "execute_result"
    }
   ],
   "source": [
    "test_group.head()"
   ]
  },
  {
   "cell_type": "markdown",
   "id": "e1f2d0df",
   "metadata": {},
   "source": [
    "### Adım 2: Kontrol ve test grubu verilerini analiz ediniz."
   ]
  },
  {
   "cell_type": "code",
   "execution_count": 14,
   "id": "ed2fe527",
   "metadata": {},
   "outputs": [
    {
     "data": {
      "text/html": [
       "<div>\n",
       "<style scoped>\n",
       "    .dataframe tbody tr th:only-of-type {\n",
       "        vertical-align: middle;\n",
       "    }\n",
       "\n",
       "    .dataframe tbody tr th {\n",
       "        vertical-align: top;\n",
       "    }\n",
       "\n",
       "    .dataframe thead th {\n",
       "        text-align: right;\n",
       "    }\n",
       "</style>\n",
       "<table border=\"1\" class=\"dataframe\">\n",
       "  <thead>\n",
       "    <tr style=\"text-align: right;\">\n",
       "      <th></th>\n",
       "      <th>Impression</th>\n",
       "      <th>Click</th>\n",
       "      <th>Purchase</th>\n",
       "      <th>Earning</th>\n",
       "    </tr>\n",
       "  </thead>\n",
       "  <tbody>\n",
       "    <tr>\n",
       "      <th>count</th>\n",
       "      <td>40.000000</td>\n",
       "      <td>40.000000</td>\n",
       "      <td>40.000000</td>\n",
       "      <td>40.000000</td>\n",
       "    </tr>\n",
       "    <tr>\n",
       "      <th>mean</th>\n",
       "      <td>101711.449068</td>\n",
       "      <td>5100.657373</td>\n",
       "      <td>550.894059</td>\n",
       "      <td>1908.568300</td>\n",
       "    </tr>\n",
       "    <tr>\n",
       "      <th>std</th>\n",
       "      <td>20302.157862</td>\n",
       "      <td>1329.985498</td>\n",
       "      <td>134.108201</td>\n",
       "      <td>302.917783</td>\n",
       "    </tr>\n",
       "    <tr>\n",
       "      <th>min</th>\n",
       "      <td>45475.942965</td>\n",
       "      <td>2189.753157</td>\n",
       "      <td>267.028943</td>\n",
       "      <td>1253.989525</td>\n",
       "    </tr>\n",
       "    <tr>\n",
       "      <th>25%</th>\n",
       "      <td>85726.690349</td>\n",
       "      <td>4124.304129</td>\n",
       "      <td>470.095533</td>\n",
       "      <td>1685.847205</td>\n",
       "    </tr>\n",
       "    <tr>\n",
       "      <th>50%</th>\n",
       "      <td>99790.701078</td>\n",
       "      <td>5001.220602</td>\n",
       "      <td>531.206307</td>\n",
       "      <td>1975.160522</td>\n",
       "    </tr>\n",
       "    <tr>\n",
       "      <th>75%</th>\n",
       "      <td>115212.816543</td>\n",
       "      <td>5923.803596</td>\n",
       "      <td>637.957088</td>\n",
       "      <td>2119.802784</td>\n",
       "    </tr>\n",
       "    <tr>\n",
       "      <th>max</th>\n",
       "      <td>147539.336329</td>\n",
       "      <td>7959.125069</td>\n",
       "      <td>801.795020</td>\n",
       "      <td>2497.295218</td>\n",
       "    </tr>\n",
       "  </tbody>\n",
       "</table>\n",
       "</div>"
      ],
      "text/plain": [
       "          Impression        Click    Purchase      Earning\n",
       "count      40.000000    40.000000   40.000000    40.000000\n",
       "mean   101711.449068  5100.657373  550.894059  1908.568300\n",
       "std     20302.157862  1329.985498  134.108201   302.917783\n",
       "min     45475.942965  2189.753157  267.028943  1253.989525\n",
       "25%     85726.690349  4124.304129  470.095533  1685.847205\n",
       "50%     99790.701078  5001.220602  531.206307  1975.160522\n",
       "75%    115212.816543  5923.803596  637.957088  2119.802784\n",
       "max    147539.336329  7959.125069  801.795020  2497.295218"
      ]
     },
     "execution_count": 14,
     "metadata": {},
     "output_type": "execute_result"
    }
   ],
   "source": [
    "control_group.describe()"
   ]
  },
  {
   "cell_type": "code",
   "execution_count": 13,
   "id": "a8a524ad",
   "metadata": {},
   "outputs": [
    {
     "data": {
      "text/html": [
       "<div>\n",
       "<style scoped>\n",
       "    .dataframe tbody tr th:only-of-type {\n",
       "        vertical-align: middle;\n",
       "    }\n",
       "\n",
       "    .dataframe tbody tr th {\n",
       "        vertical-align: top;\n",
       "    }\n",
       "\n",
       "    .dataframe thead th {\n",
       "        text-align: right;\n",
       "    }\n",
       "</style>\n",
       "<table border=\"1\" class=\"dataframe\">\n",
       "  <thead>\n",
       "    <tr style=\"text-align: right;\">\n",
       "      <th></th>\n",
       "      <th>Impression</th>\n",
       "      <th>Click</th>\n",
       "      <th>Purchase</th>\n",
       "      <th>Earning</th>\n",
       "    </tr>\n",
       "  </thead>\n",
       "  <tbody>\n",
       "    <tr>\n",
       "      <th>count</th>\n",
       "      <td>40.000000</td>\n",
       "      <td>40.000000</td>\n",
       "      <td>40.000000</td>\n",
       "      <td>40.000000</td>\n",
       "    </tr>\n",
       "    <tr>\n",
       "      <th>mean</th>\n",
       "      <td>120512.411758</td>\n",
       "      <td>3967.549761</td>\n",
       "      <td>582.106097</td>\n",
       "      <td>2514.890733</td>\n",
       "    </tr>\n",
       "    <tr>\n",
       "      <th>std</th>\n",
       "      <td>18807.448712</td>\n",
       "      <td>923.095073</td>\n",
       "      <td>161.152513</td>\n",
       "      <td>282.730852</td>\n",
       "    </tr>\n",
       "    <tr>\n",
       "      <th>min</th>\n",
       "      <td>79033.834921</td>\n",
       "      <td>1836.629861</td>\n",
       "      <td>311.629515</td>\n",
       "      <td>1939.611243</td>\n",
       "    </tr>\n",
       "    <tr>\n",
       "      <th>25%</th>\n",
       "      <td>112691.970770</td>\n",
       "      <td>3376.819024</td>\n",
       "      <td>444.626828</td>\n",
       "      <td>2280.537426</td>\n",
       "    </tr>\n",
       "    <tr>\n",
       "      <th>50%</th>\n",
       "      <td>119291.300775</td>\n",
       "      <td>3931.359804</td>\n",
       "      <td>551.355732</td>\n",
       "      <td>2544.666107</td>\n",
       "    </tr>\n",
       "    <tr>\n",
       "      <th>75%</th>\n",
       "      <td>132050.578933</td>\n",
       "      <td>4660.497911</td>\n",
       "      <td>699.862360</td>\n",
       "      <td>2761.545405</td>\n",
       "    </tr>\n",
       "    <tr>\n",
       "      <th>max</th>\n",
       "      <td>158605.920483</td>\n",
       "      <td>6019.695079</td>\n",
       "      <td>889.910460</td>\n",
       "      <td>3171.489708</td>\n",
       "    </tr>\n",
       "  </tbody>\n",
       "</table>\n",
       "</div>"
      ],
      "text/plain": [
       "          Impression        Click    Purchase      Earning\n",
       "count      40.000000    40.000000   40.000000    40.000000\n",
       "mean   120512.411758  3967.549761  582.106097  2514.890733\n",
       "std     18807.448712   923.095073  161.152513   282.730852\n",
       "min     79033.834921  1836.629861  311.629515  1939.611243\n",
       "25%    112691.970770  3376.819024  444.626828  2280.537426\n",
       "50%    119291.300775  3931.359804  551.355732  2544.666107\n",
       "75%    132050.578933  4660.497911  699.862360  2761.545405\n",
       "max    158605.920483  6019.695079  889.910460  3171.489708"
      ]
     },
     "execution_count": 13,
     "metadata": {},
     "output_type": "execute_result"
    }
   ],
   "source": [
    "test_group.describe()"
   ]
  },
  {
   "cell_type": "code",
   "execution_count": 12,
   "id": "b0318d71",
   "metadata": {},
   "outputs": [
    {
     "name": "stdout",
     "output_type": "stream",
     "text": [
      "<class 'pandas.core.frame.DataFrame'>\n",
      "RangeIndex: 40 entries, 0 to 39\n",
      "Data columns (total 4 columns):\n",
      " #   Column      Non-Null Count  Dtype  \n",
      "---  ------      --------------  -----  \n",
      " 0   Impression  40 non-null     float64\n",
      " 1   Click       40 non-null     float64\n",
      " 2   Purchase    40 non-null     float64\n",
      " 3   Earning     40 non-null     float64\n",
      "dtypes: float64(4)\n",
      "memory usage: 1.4 KB\n"
     ]
    }
   ],
   "source": [
    "control_group.info()"
   ]
  },
  {
   "cell_type": "code",
   "execution_count": 15,
   "id": "9f66e8f1",
   "metadata": {},
   "outputs": [
    {
     "name": "stdout",
     "output_type": "stream",
     "text": [
      "<class 'pandas.core.frame.DataFrame'>\n",
      "RangeIndex: 40 entries, 0 to 39\n",
      "Data columns (total 4 columns):\n",
      " #   Column      Non-Null Count  Dtype  \n",
      "---  ------      --------------  -----  \n",
      " 0   Impression  40 non-null     float64\n",
      " 1   Click       40 non-null     float64\n",
      " 2   Purchase    40 non-null     float64\n",
      " 3   Earning     40 non-null     float64\n",
      "dtypes: float64(4)\n",
      "memory usage: 1.4 KB\n"
     ]
    }
   ],
   "source": [
    "test_group.info()"
   ]
  },
  {
   "cell_type": "markdown",
   "id": "86a81a1a",
   "metadata": {},
   "source": [
    "### Adım 3: Analiz işleminden sonra concat metodunu kullanarak kontrol ve test grubu verilerini birleştiriniz."
   ]
  },
  {
   "cell_type": "code",
   "execution_count": 16,
   "id": "914207a4",
   "metadata": {},
   "outputs": [],
   "source": [
    "df = pd.concat([control_group, test_group])"
   ]
  },
  {
   "cell_type": "code",
   "execution_count": 17,
   "id": "76fdd12c",
   "metadata": {},
   "outputs": [
    {
     "data": {
      "text/html": [
       "<div>\n",
       "<style scoped>\n",
       "    .dataframe tbody tr th:only-of-type {\n",
       "        vertical-align: middle;\n",
       "    }\n",
       "\n",
       "    .dataframe tbody tr th {\n",
       "        vertical-align: top;\n",
       "    }\n",
       "\n",
       "    .dataframe thead th {\n",
       "        text-align: right;\n",
       "    }\n",
       "</style>\n",
       "<table border=\"1\" class=\"dataframe\">\n",
       "  <thead>\n",
       "    <tr style=\"text-align: right;\">\n",
       "      <th></th>\n",
       "      <th>Impression</th>\n",
       "      <th>Click</th>\n",
       "      <th>Purchase</th>\n",
       "      <th>Earning</th>\n",
       "    </tr>\n",
       "  </thead>\n",
       "  <tbody>\n",
       "    <tr>\n",
       "      <th>0</th>\n",
       "      <td>82529.459271</td>\n",
       "      <td>6090.077317</td>\n",
       "      <td>665.211255</td>\n",
       "      <td>2311.277143</td>\n",
       "    </tr>\n",
       "    <tr>\n",
       "      <th>1</th>\n",
       "      <td>98050.451926</td>\n",
       "      <td>3382.861786</td>\n",
       "      <td>315.084895</td>\n",
       "      <td>1742.806855</td>\n",
       "    </tr>\n",
       "    <tr>\n",
       "      <th>2</th>\n",
       "      <td>82696.023549</td>\n",
       "      <td>4167.965750</td>\n",
       "      <td>458.083738</td>\n",
       "      <td>1797.827447</td>\n",
       "    </tr>\n",
       "    <tr>\n",
       "      <th>3</th>\n",
       "      <td>109914.400398</td>\n",
       "      <td>4910.882240</td>\n",
       "      <td>487.090773</td>\n",
       "      <td>1696.229178</td>\n",
       "    </tr>\n",
       "    <tr>\n",
       "      <th>4</th>\n",
       "      <td>108457.762630</td>\n",
       "      <td>5987.655811</td>\n",
       "      <td>441.034050</td>\n",
       "      <td>1543.720179</td>\n",
       "    </tr>\n",
       "  </tbody>\n",
       "</table>\n",
       "</div>"
      ],
      "text/plain": [
       "      Impression        Click    Purchase      Earning\n",
       "0   82529.459271  6090.077317  665.211255  2311.277143\n",
       "1   98050.451926  3382.861786  315.084895  1742.806855\n",
       "2   82696.023549  4167.965750  458.083738  1797.827447\n",
       "3  109914.400398  4910.882240  487.090773  1696.229178\n",
       "4  108457.762630  5987.655811  441.034050  1543.720179"
      ]
     },
     "execution_count": 17,
     "metadata": {},
     "output_type": "execute_result"
    }
   ],
   "source": [
    "df.head()"
   ]
  },
  {
   "cell_type": "code",
   "execution_count": 18,
   "id": "86718d57",
   "metadata": {},
   "outputs": [
    {
     "data": {
      "text/html": [
       "<div>\n",
       "<style scoped>\n",
       "    .dataframe tbody tr th:only-of-type {\n",
       "        vertical-align: middle;\n",
       "    }\n",
       "\n",
       "    .dataframe tbody tr th {\n",
       "        vertical-align: top;\n",
       "    }\n",
       "\n",
       "    .dataframe thead th {\n",
       "        text-align: right;\n",
       "    }\n",
       "</style>\n",
       "<table border=\"1\" class=\"dataframe\">\n",
       "  <thead>\n",
       "    <tr style=\"text-align: right;\">\n",
       "      <th></th>\n",
       "      <th>Impression</th>\n",
       "      <th>Click</th>\n",
       "      <th>Purchase</th>\n",
       "      <th>Earning</th>\n",
       "    </tr>\n",
       "  </thead>\n",
       "  <tbody>\n",
       "    <tr>\n",
       "      <th>30</th>\n",
       "      <td>158605.920483</td>\n",
       "      <td>2736.410229</td>\n",
       "      <td>748.496608</td>\n",
       "      <td>2189.612669</td>\n",
       "    </tr>\n",
       "    <tr>\n",
       "      <th>31</th>\n",
       "      <td>141367.848406</td>\n",
       "      <td>3924.591665</td>\n",
       "      <td>501.008673</td>\n",
       "      <td>2786.146033</td>\n",
       "    </tr>\n",
       "    <tr>\n",
       "      <th>32</th>\n",
       "      <td>122860.395905</td>\n",
       "      <td>3652.208415</td>\n",
       "      <td>357.233967</td>\n",
       "      <td>2464.662921</td>\n",
       "    </tr>\n",
       "    <tr>\n",
       "      <th>33</th>\n",
       "      <td>140219.552032</td>\n",
       "      <td>5232.711818</td>\n",
       "      <td>524.908064</td>\n",
       "      <td>2778.842310</td>\n",
       "    </tr>\n",
       "    <tr>\n",
       "      <th>34</th>\n",
       "      <td>137231.175234</td>\n",
       "      <td>3991.677453</td>\n",
       "      <td>311.629515</td>\n",
       "      <td>2551.243281</td>\n",
       "    </tr>\n",
       "    <tr>\n",
       "      <th>35</th>\n",
       "      <td>79234.911929</td>\n",
       "      <td>6002.213585</td>\n",
       "      <td>382.047116</td>\n",
       "      <td>2277.863984</td>\n",
       "    </tr>\n",
       "    <tr>\n",
       "      <th>36</th>\n",
       "      <td>130702.239410</td>\n",
       "      <td>3626.320072</td>\n",
       "      <td>449.824592</td>\n",
       "      <td>2530.841327</td>\n",
       "    </tr>\n",
       "    <tr>\n",
       "      <th>37</th>\n",
       "      <td>116481.873365</td>\n",
       "      <td>4702.782468</td>\n",
       "      <td>472.453725</td>\n",
       "      <td>2597.917632</td>\n",
       "    </tr>\n",
       "    <tr>\n",
       "      <th>38</th>\n",
       "      <td>79033.834921</td>\n",
       "      <td>4495.428177</td>\n",
       "      <td>425.359102</td>\n",
       "      <td>2595.857880</td>\n",
       "    </tr>\n",
       "    <tr>\n",
       "      <th>39</th>\n",
       "      <td>102257.454089</td>\n",
       "      <td>4800.068321</td>\n",
       "      <td>521.310729</td>\n",
       "      <td>2967.518390</td>\n",
       "    </tr>\n",
       "  </tbody>\n",
       "</table>\n",
       "</div>"
      ],
      "text/plain": [
       "       Impression        Click    Purchase      Earning\n",
       "30  158605.920483  2736.410229  748.496608  2189.612669\n",
       "31  141367.848406  3924.591665  501.008673  2786.146033\n",
       "32  122860.395905  3652.208415  357.233967  2464.662921\n",
       "33  140219.552032  5232.711818  524.908064  2778.842310\n",
       "34  137231.175234  3991.677453  311.629515  2551.243281\n",
       "35   79234.911929  6002.213585  382.047116  2277.863984\n",
       "36  130702.239410  3626.320072  449.824592  2530.841327\n",
       "37  116481.873365  4702.782468  472.453725  2597.917632\n",
       "38   79033.834921  4495.428177  425.359102  2595.857880\n",
       "39  102257.454089  4800.068321  521.310729  2967.518390"
      ]
     },
     "execution_count": 18,
     "metadata": {},
     "output_type": "execute_result"
    }
   ],
   "source": [
    "df.tail(10)"
   ]
  },
  {
   "cell_type": "code",
   "execution_count": 19,
   "id": "c6c60b64",
   "metadata": {},
   "outputs": [
    {
     "data": {
      "text/html": [
       "<div>\n",
       "<style scoped>\n",
       "    .dataframe tbody tr th:only-of-type {\n",
       "        vertical-align: middle;\n",
       "    }\n",
       "\n",
       "    .dataframe tbody tr th {\n",
       "        vertical-align: top;\n",
       "    }\n",
       "\n",
       "    .dataframe thead th {\n",
       "        text-align: right;\n",
       "    }\n",
       "</style>\n",
       "<table border=\"1\" class=\"dataframe\">\n",
       "  <thead>\n",
       "    <tr style=\"text-align: right;\">\n",
       "      <th></th>\n",
       "      <th>Impression</th>\n",
       "      <th>Click</th>\n",
       "      <th>Purchase</th>\n",
       "      <th>Earning</th>\n",
       "    </tr>\n",
       "  </thead>\n",
       "  <tbody>\n",
       "    <tr>\n",
       "      <th>count</th>\n",
       "      <td>80.000000</td>\n",
       "      <td>80.000000</td>\n",
       "      <td>80.000000</td>\n",
       "      <td>80.000000</td>\n",
       "    </tr>\n",
       "    <tr>\n",
       "      <th>mean</th>\n",
       "      <td>111111.930413</td>\n",
       "      <td>4534.103567</td>\n",
       "      <td>566.500078</td>\n",
       "      <td>2211.729516</td>\n",
       "    </tr>\n",
       "    <tr>\n",
       "      <th>std</th>\n",
       "      <td>21623.807747</td>\n",
       "      <td>1272.376073</td>\n",
       "      <td>148.141840</td>\n",
       "      <td>421.700575</td>\n",
       "    </tr>\n",
       "    <tr>\n",
       "      <th>min</th>\n",
       "      <td>45475.942965</td>\n",
       "      <td>1836.629861</td>\n",
       "      <td>267.028943</td>\n",
       "      <td>1253.989525</td>\n",
       "    </tr>\n",
       "    <tr>\n",
       "      <th>25%</th>\n",
       "      <td>95063.860626</td>\n",
       "      <td>3632.891835</td>\n",
       "      <td>458.137878</td>\n",
       "      <td>1945.713157</td>\n",
       "    </tr>\n",
       "    <tr>\n",
       "      <th>50%</th>\n",
       "      <td>114037.035002</td>\n",
       "      <td>4321.602826</td>\n",
       "      <td>532.125084</td>\n",
       "      <td>2205.536256</td>\n",
       "    </tr>\n",
       "    <tr>\n",
       "      <th>75%</th>\n",
       "      <td>124138.652391</td>\n",
       "      <td>5272.616062</td>\n",
       "      <td>679.557595</td>\n",
       "      <td>2541.377520</td>\n",
       "    </tr>\n",
       "    <tr>\n",
       "      <th>max</th>\n",
       "      <td>158605.920483</td>\n",
       "      <td>7959.125069</td>\n",
       "      <td>889.910460</td>\n",
       "      <td>3171.489708</td>\n",
       "    </tr>\n",
       "  </tbody>\n",
       "</table>\n",
       "</div>"
      ],
      "text/plain": [
       "          Impression        Click    Purchase      Earning\n",
       "count      80.000000    80.000000   80.000000    80.000000\n",
       "mean   111111.930413  4534.103567  566.500078  2211.729516\n",
       "std     21623.807747  1272.376073  148.141840   421.700575\n",
       "min     45475.942965  1836.629861  267.028943  1253.989525\n",
       "25%     95063.860626  3632.891835  458.137878  1945.713157\n",
       "50%    114037.035002  4321.602826  532.125084  2205.536256\n",
       "75%    124138.652391  5272.616062  679.557595  2541.377520\n",
       "max    158605.920483  7959.125069  889.910460  3171.489708"
      ]
     },
     "execution_count": 19,
     "metadata": {},
     "output_type": "execute_result"
    }
   ],
   "source": [
    "df.describe()"
   ]
  },
  {
   "cell_type": "markdown",
   "id": "b8f412ef",
   "metadata": {},
   "source": [
    "## Görev 2: A/B Testinin Hipotezinin Tanımlanması"
   ]
  },
  {
   "cell_type": "markdown",
   "id": "3d082996",
   "metadata": {},
   "source": [
    "### Adım 1: Hipotezi Tanımlayınız\n",
    "#### H0: Maximum Bidding (kontrol) ile Average Bidding (test) uygulanan grupların Purchase ortalamalarında istatistiksel olarak anlamlı bir fark yoktur.\n",
    "#### H1: Maximum Bidding (kontrol) ile Average Bidding (test) uygulanan grupların Purchase ortalamalarında istatistiksel olarak anlamlı bir fark vardır."
   ]
  },
  {
   "cell_type": "markdown",
   "id": "ef0d78f4",
   "metadata": {},
   "source": [
    "### Adım 2: Kontrol ve test grubu için purchase ortalamalarını analiz ediniz."
   ]
  },
  {
   "cell_type": "code",
   "execution_count": 24,
   "id": "cfa932fb",
   "metadata": {},
   "outputs": [
    {
     "data": {
      "text/plain": [
       "550.8940587702316"
      ]
     },
     "execution_count": 24,
     "metadata": {},
     "output_type": "execute_result"
    }
   ],
   "source": [
    "control_group['Purchase'].mean()"
   ]
  },
  {
   "cell_type": "code",
   "execution_count": 25,
   "id": "5a39dba6",
   "metadata": {},
   "outputs": [
    {
     "data": {
      "text/plain": [
       "582.1060966484677"
      ]
     },
     "execution_count": 25,
     "metadata": {},
     "output_type": "execute_result"
    }
   ],
   "source": [
    "test_group['Purchase'].mean()"
   ]
  },
  {
   "cell_type": "markdown",
   "id": "ad1741dc",
   "metadata": {},
   "source": [
    "Kontrol ve test gruplarının Purchase ortalamaları arasında 32'lik bir fark olduğu gözükmektedir. Ancak bu farkın anlamlı olup olmadığını analiz etmemiz gerekmektedir."
   ]
  },
  {
   "cell_type": "markdown",
   "id": "94bb2b27",
   "metadata": {},
   "source": [
    "## Görev 3: Hipotez Testinin Gerçekleştirilmesi"
   ]
  },
  {
   "cell_type": "markdown",
   "id": "336a1d14",
   "metadata": {},
   "source": [
    "### Adım 1: Hipotez testi yapılmadan önce varsayım kontrollerini yapınız."
   ]
  },
  {
   "cell_type": "markdown",
   "id": "f4ac515c",
   "metadata": {},
   "source": [
    "#### Normallik Testi\n",
    "##### H0: Normal dağılım varsayımı sağlanmaktadır.\n",
    "##### H1: Normal dağılım varsayımı sağlanmamaktadır."
   ]
  },
  {
   "cell_type": "code",
   "execution_count": 33,
   "id": "5fd01dee",
   "metadata": {},
   "outputs": [
    {
     "name": "stdout",
     "output_type": "stream",
     "text": [
      "Test Stat = 0.9773, p-value = 0.5891\n"
     ]
    }
   ],
   "source": [
    "test_stat, pvalue = shapiro(control_group['Purchase'])\n",
    "print('Test Stat = %.4f, p-value = %.4f' % (test_stat, pvalue))\n",
    "\n",
    "# p-value < ise 0.05'ten H0 RED.\n",
    "# p-value > ise 0.05'ten H0 REDDEDİLEMEZ.\n",
    "\n",
    "# Kontrol grubu için normallik varsayımı, p-value 0.5891 çıktığı için SAĞLANMAKTADIR."
   ]
  },
  {
   "cell_type": "code",
   "execution_count": 35,
   "id": "d38ec2cf",
   "metadata": {},
   "outputs": [
    {
     "name": "stdout",
     "output_type": "stream",
     "text": [
      "Test Stat = 0.9589, p-value = 0.1541\n"
     ]
    }
   ],
   "source": [
    "test_stat, pvalue = shapiro(test_group['Purchase'])\n",
    "print('Test Stat = %.4f, p-value = %.4f' % (test_stat, pvalue))\n",
    "\n",
    "# p-value < ise 0.05'ten H0 RED.\n",
    "# p-value > ise 0.05'ten H0 REDDEDİLEMEZ.\n",
    "\n",
    "# Test grubu için normallik varsayımı, p-value 0.1541 çıktığı için SAĞLANMAKTADIR."
   ]
  },
  {
   "cell_type": "markdown",
   "id": "5d738f67",
   "metadata": {},
   "source": [
    "#### Varyans Homojenliği Testi\n",
    "##### H0: Varyanslar homojendir.\n",
    "##### H1: Varyanslar homojen değildir."
   ]
  },
  {
   "cell_type": "code",
   "execution_count": 36,
   "id": "5fd94374",
   "metadata": {},
   "outputs": [
    {
     "name": "stdout",
     "output_type": "stream",
     "text": [
      "Test Stat = 2.6393, p-value = 0.1083\n"
     ]
    }
   ],
   "source": [
    "# Varyans Homojenliği Testi\n",
    "test_stat, pvalue = levene(control_group['Purchase'], test_group['Purchase'])\n",
    "print('Test Stat = %.4f, p-value = %.4f' % (test_stat, pvalue))\n",
    "\n",
    "# p-value < ise 0.05'ten H0 RED.\n",
    "# p-value > ise 0.05'ten H0 REDDEDİLEMEZ.\n",
    "\n",
    "# p-value değeri 0.05'ten büyük çıktığı için H0 REDDEDİLEMEZ, yani varyanslar HOMOJENDİR."
   ]
  },
  {
   "cell_type": "markdown",
   "id": "6d00ba8f",
   "metadata": {},
   "source": [
    "### Adım 2: Normallik Varsayımı ve Varyans Homojenliği sonuçlarına göre uygun testi seçiniz.\n",
    "\n",
    "Kontrol ve test gruplarına yapılan testlerde dağılımlar normal ve varyanslar homojen bulunduğu için, bağımsız iki örneklem t-testi (parametrik test) uygulanması uygun görülmüştür."
   ]
  },
  {
   "cell_type": "markdown",
   "id": "893b18aa",
   "metadata": {},
   "source": [
    "### Adım 3: Test sonucunda elde edilen p-value değerini göz önünde bulundurarak kontrol ve test grubu satın alma ortalamaları arasında istatistiki olarak anlamlı bir fark olup olmadığını yorumlayınız."
   ]
  },
  {
   "cell_type": "code",
   "execution_count": 37,
   "id": "6182372b",
   "metadata": {},
   "outputs": [
    {
     "name": "stdout",
     "output_type": "stream",
     "text": [
      "Test Stat = -0.9416, p-value = 0.3493\n"
     ]
    }
   ],
   "source": [
    "test_stat, pvalue = ttest_ind(control_group['Purchase'], test_group['Purchase'], equal_var=True)\n",
    "print('Test Stat = %.4f, p-value = %.4f' % (test_stat, pvalue))"
   ]
  },
  {
   "cell_type": "markdown",
   "id": "d72dae70",
   "metadata": {},
   "source": [
    "Yapılan bağımsız iki örneklem t-testinde görüldüğü üzere, p-value 0.3493 çıkmıştır. Bu durumda p-value > 0.05 olduğu için H0 reddedilemez. İki grup arasında anlamlı bir fark yoktur."
   ]
  },
  {
   "cell_type": "markdown",
   "id": "237be311",
   "metadata": {},
   "source": [
    "## Görev 4: Sonuçların Analizi"
   ]
  },
  {
   "cell_type": "markdown",
   "id": "7b261a52",
   "metadata": {},
   "source": [
    "### Adım 1: Hangi testi kullandınız? Sebeplerini belirtiniz.\n",
    "\n",
    "Adım 2'de belirtildiği üzere; kontrol ve test gruplarına yapılan testlerde dağılımlar normal ve varyanslar homojen bulunduğu için, bağımsız iki örneklem t-testi (parametrik test) uygulanması uygun görülmüştür."
   ]
  },
  {
   "cell_type": "markdown",
   "id": "0953a2b8",
   "metadata": {},
   "source": [
    "### Adım 2: Elde ettiğiniz test sonuçlarına göre müşteriye tavsiyede bulununuz.\n",
    "\n",
    "Vaka çalışmasında belirtildiği üzere, ilgili veri setlerinin sahibi müşteri için önemli olan metrik Purchase, yani satın alınan ürün sayısıdır. Her ne kadar test grubunda değerlendirilen Average Bidding metodu, ortalamada kısmi olarak daha yüksek bir değere sahip olsa da yapılan testler sonucunda Maximum Bidding ile Average Bidding arasında anlamlı bir fark olmadığı gözlenmiştir. Mevcut durumda, yalnızca elimizdeki bilgilerden yola çıkarak, müşterinin herhangi bir geçiş maliyetine (zamansal ve parasal olarak) katlanarak mevcut metodu değiştirmesinde bir gereklilik görülmemektedir. Ancak diğer değişkenler için (Impression, Click ve Earning) analizler ortaya koyularak, gerekli görülmesi durumunda bu değişkenler üzerinden istatistiksel çıkarımlar yapılabilir ve olası bir metod değişikliğine karar verilebilir."
   ]
  }
 ],
 "metadata": {
  "kernelspec": {
   "display_name": "Python 3 (ipykernel)",
   "language": "python",
   "name": "python3"
  },
  "language_info": {
   "codemirror_mode": {
    "name": "ipython",
    "version": 3
   },
   "file_extension": ".py",
   "mimetype": "text/x-python",
   "name": "python",
   "nbconvert_exporter": "python",
   "pygments_lexer": "ipython3",
   "version": "3.11.4"
  }
 },
 "nbformat": 4,
 "nbformat_minor": 5
}
